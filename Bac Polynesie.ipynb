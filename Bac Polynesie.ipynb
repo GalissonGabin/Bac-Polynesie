{
 "cells": [
  {
   "cell_type": "markdown",
   "metadata": {},
   "source": [
    "# BAC POLYNESIE"
   ]
  },
  {
   "cell_type": "code",
   "execution_count": 1,
   "metadata": {},
   "outputs": [
    {
     "data": {
      "text/plain": [
       "'aaa'"
      ]
     },
     "execution_count": 1,
     "metadata": {},
     "output_type": "execute_result"
    }
   ],
   "source": [
    "from random import choice\n",
    "\n",
    "def A():\n",
    "    if choice([True, False]):\n",
    "        return \"a\"\n",
    "    else:\n",
    "        return \"a\" + A() + \"a\"\n",
    "\n",
    "A()"
   ]
  },
  {
   "cell_type": "markdown",
   "metadata": {},
   "source": [
    "<span style=\"color:Blue\">1. a. Cette fonction est recursive car dans cette fonction nous appelons cette même fonction <br>\n",
    "    b. Si la fonction choice <span style=\"color:Red\">False</span> un nombre de fois superieur à la limite de profondeur de récursivité (par defaut 1000) dans ce cas une erreur d'éxécution arrive</span>"
   ]
  },
  {
   "cell_type": "code",
   "execution_count": 2,
   "metadata": {},
   "outputs": [
    {
     "data": {
      "text/plain": [
       "'aaaaaaa'"
      ]
     },
     "execution_count": 2,
     "metadata": {},
     "output_type": "execute_result"
    }
   ],
   "source": [
    "def A(n):\n",
    "    if n <= 0 or choice([True, False]) :\n",
    "        return \"a\"\n",
    "    else:\n",
    "        return \"a\" + A(n - 1) + \"a\"\n",
    "    \n",
    "A(3)"
   ]
  },
  {
   "cell_type": "markdown",
   "metadata": {},
   "source": [
    "<span style=\"color:Blue\">\n",
    "2. b. Un appel de la fonction A() dont n vaut 50 se terminera toujours car le nombre d'appel de cette fonction sera toujours inferieur à la limite de récursivité. <br>\n",
    "(le nombre d'appel de la fonction sera compris entre 1 et 50 fois soit strictement inferieur à la limite de récursivité qui est de 1000)\n",
    "</span>"
   ]
  },
  {
   "cell_type": "code",
   "execution_count": 12,
   "metadata": {},
   "outputs": [
    {
     "data": {
      "text/plain": [
       "'baaab'"
      ]
     },
     "execution_count": 12,
     "metadata": {},
     "output_type": "execute_result"
    }
   ],
   "source": [
    "def B(n):\n",
    "    if n <= 0 or choice([True, False]):\n",
    "        return \"b\" + A(n-1) + \"b\"\n",
    "    else:\n",
    "        return \"b\" + B(n-1) + \"b\"\n",
    "    \n",
    "B(2)"
   ]
  },
  {
   "cell_type": "markdown",
   "metadata": {},
   "source": [
    "<span style=\"color:Blue\">\n",
    "3. B(0) retournera néccessairement \"bab\"<br>\n",
    "   B(1) retournera \"bab\" ou \"bbabb\"<br>\n",
    "   B(2) retournera \"bab\", \"bbabb\", \"baaab\" ou \"bbbabbb\"\n",
    "</span>"
   ]
  },
  {
   "cell_type": "code",
   "execution_count": 4,
   "metadata": {},
   "outputs": [],
   "source": [
    "def raccourcir(chaine: str) -> str:\n",
    "    return chaine[1:len(chaine) - 1]"
   ]
  },
  {
   "cell_type": "code",
   "execution_count": 7,
   "metadata": {},
   "outputs": [
    {
     "data": {
      "text/plain": [
       "True"
      ]
     },
     "execution_count": 7,
     "metadata": {},
     "output_type": "execute_result"
    }
   ],
   "source": [
    "def regleA(chaine):\n",
    "    n = len(chaine)\n",
    "    if n >= 2:\n",
    "        return chaine[0] == \"a\" and chaine[n-1] == \"a\" and regleA(raccourcir(chaine))\n",
    "    else:\n",
    "        return chaine == \"a\"\n",
    "\n",
    "regleA(\"aaa\")"
   ]
  },
  {
   "cell_type": "code",
   "execution_count": 13,
   "metadata": {},
   "outputs": [
    {
     "data": {
      "text/plain": [
       "False"
      ]
     },
     "execution_count": 13,
     "metadata": {},
     "output_type": "execute_result"
    }
   ],
   "source": [
    "def regleB(chaine):\n",
    "    n = len(chaine)\n",
    "    if n  >= 2:\n",
    "        return chaine[0] == \"b\" and chaine[n - 1] == \"b\" and regleB(raccourcir(chaine))\n",
    "    else:\n",
    "        return chaine == \"b    \n",
    "regleA(\"aaaaa\")\"\n",
    "    \n",
    "regleB(\"bbbabbb\")"
   ]
  },
  {
   "cell_type": "code",
   "execution_count": null,
   "metadata": {},
   "outputs": [],
   "source": []
  }
 ],
 "metadata": {
  "kernelspec": {
   "display_name": "Python 3",
   "language": "python",
   "name": "python3"
  },
  "language_info": {
   "codemirror_mode": {
    "name": "ipython",
    "version": 3
   },
   "file_extension": ".py",
   "mimetype": "text/x-python",
   "name": "python",
   "nbconvert_exporter": "python",
   "pygments_lexer": "ipython3",
   "version": "3.8.3"
  }
 },
 "nbformat": 4,
 "nbformat_minor": 4
}
